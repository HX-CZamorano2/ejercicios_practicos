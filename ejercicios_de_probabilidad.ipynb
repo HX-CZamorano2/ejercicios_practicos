{
 "cells": [
  {
   "cell_type": "markdown",
   "metadata": {},
   "source": [
    "## Ejercicios de probabilidad "
   ]
  },
  {
   "cell_type": "markdown",
   "metadata": {},
   "source": [
    "### 1. Calcular las probabilidades que se piden dada la siguiente información"
   ]
  },
  {
   "cell_type": "markdown",
   "metadata": {},
   "source": [
    "Sean A y B dos sucesos aleatorios con:<br/>\n",
    "P(A) = 3/8, P(B) = 1/2, P(A interseccion B) = 1/4 <br/>\n",
    "Encontar: <br/>\n",
    "1. P(A U B)\n",
    "2. P(noA)\n",
    "3. P(noB)\n",
    "4. P(noA interseccion noB)\n",
    "5. P(A interseccion noB)\n",
    "6. P(noA U noB)\n",
    "7. P(B interseccion noA)"
   ]
  },
  {
   "cell_type": "code",
   "execution_count": 11,
   "metadata": {},
   "outputs": [],
   "source": [
    "p_a = 3/8\n",
    "p_b = 1/2\n",
    "p_a_int_b = 1/4"
   ]
  },
  {
   "cell_type": "markdown",
   "metadata": {},
   "source": [
    "A tener en cuenta:\n",
    "- Los sucesos son compatibles porque la intersección es distinta del vacío\n",
    "- Aplicando las leyes de Morgan obtenemos que noA int noB = no union de A y B\n",
    "![Leydeconjuntos](https://image.slidesharecdn.com/grafos-160317164311/95/ley-de-conjunto-2-638.jpg?cb=1458233097)"
   ]
  },
  {
   "cell_type": "code",
   "execution_count": 15,
   "metadata": {},
   "outputs": [
    {
     "name": "stdout",
     "output_type": "stream",
     "text": [
      "1. P(A U B): 0.625\n",
      "2. P(noA): 0.625\n",
      "3. P(noB): 0.5\n",
      "4. P(noA interseccion noB): 0.375\n",
      "5. P(A interseccion noB): 0.125\n",
      "6. P(noA U noB): 0.75\n",
      "7. P(B interseccion noA): 0.25\n"
     ]
    }
   ],
   "source": [
    "# 1. P(A U B)\n",
    "p_aub = p_a + p_b - p_a_int_b\n",
    "print( '1. P(A U B): {}'.format(p_aub))\n",
    "\n",
    "# 2. P(noA)\n",
    "p_noa = 1-p_a\n",
    "print( '2. P(noA): {}'.format(p_noa))\n",
    "\n",
    "# 3. P(noB)\n",
    "p_nob = 1- p_b\n",
    "print( '3. P(noB): {}'.format(p_nob))\n",
    "\n",
    "# 4. P(noA interseccion noB)\n",
    "# p_noa_int_nob = p(no union de A Y B) = 1-P(A U B)\n",
    "p_noa_int_nob = 1-p_aub\n",
    "print( '4. P(noA interseccion noB): {}'.format(p_noa_int_nob))\n",
    "\n",
    "# 5. P(A interseccion noB)\n",
    "# A INT noB  = A - B es decir, P(A int noB) = P(A-B) = P(A)-P(A int B)\n",
    "\n",
    "p_a_int_nob = p_a - p_a_int_b\n",
    "print( '5. P(A interseccion noB): {}'.format(p_a_int_nob))\n",
    "\n",
    "# 6. P(noA U noB)\n",
    "# p_noa_U_nob = p(no interseccion de A Y B) = 1-P(A int B)\n",
    "p_noa_U_nob = 1 - p_a_int_b\n",
    "print( '6. P(noA U noB): {}'.format(p_noa_U_nob))\n",
    "\n",
    "\n",
    "# 7. P(B interseccion noA)\n",
    "# B INT noA  = B - A es decir, P(B int noA) = P(B-A) = P(B)-P(A int B)\n",
    "\n",
    "p_b_int_noa = p_b - p_a_int_b\n",
    "print( '7. P(B interseccion noA): {}'.format(p_b_int_noa))\n",
    "\n",
    "\n"
   ]
  },
  {
   "cell_type": "markdown",
   "metadata": {},
   "source": [
    "### 2. Calcula lo que se pide dados los siguientes sucesos y sus probabilidades"
   ]
  },
  {
   "cell_type": "markdown",
   "metadata": {},
   "source": [
    "P(noA) = 2/3, P(A U B) = 3/4, P(A interseccion B) = 1/4 <br/>\n",
    "Encontar: <br/>\n",
    "1. P(A)\n",
    "2. P(B)\n",
    "3. P(A interseccion noB)\n",
    "4. P(B interseccion noA)"
   ]
  },
  {
   "cell_type": "code",
   "execution_count": 17,
   "metadata": {},
   "outputs": [
    {
     "name": "stdout",
     "output_type": "stream",
     "text": [
      "1. P(A): 0.33\n",
      "2. P(B): 0.67\n",
      "3. P(A interseccion noB): 0.08\n",
      "4. P(B interseccion noA): 0.42\n"
     ]
    }
   ],
   "source": [
    "p_noA = 2/3\n",
    "p_AuB = 3/4\n",
    "p_A_int_B = 1/4\n",
    "\n",
    "# 1. P(A)\n",
    "\n",
    "p_A = 1-p_noA\n",
    "print( '1. P(A): {}'.format(round(p_A,2)))\n",
    "\n",
    "# 2. P(B)\n",
    "p_B = p_AuB + p_A_int_B - p_A\n",
    "print( '2. P(B): {}'.format(round(p_B,2)))\n",
    "\n",
    "# 3. P(A interseccion noB)\n",
    "\n",
    "# A INT noB  = A - B es decir, P(A int noB) = P(A-B) = P(A)-P(A int B)\n",
    "\n",
    "p_A_int_noB = p_A - p_A_int_B\n",
    "print( '3. P(A interseccion noB): {}'.format(round(p_A_int_noB,2)))\n",
    "\n",
    "# 4. P(B interseccion noA)\n",
    "p_B_int_noA = p_B - p_A_int_B\n",
    "print( '4. P(B interseccion noA): {}'.format(round(p_B_int_noA,2)))\n",
    "\n"
   ]
  },
  {
   "cell_type": "markdown",
   "metadata": {},
   "source": [
    "### 3. Describe el espacio muestral dado el siguiente experimento"
   ]
  },
  {
   "cell_type": "markdown",
   "metadata": {},
   "source": [
    "Se sacan dos bolas de una urna que se compone de una bola blanca, otra roja, otra verde y otra negra. Describe el espacio muestral cuando: <br/>\n",
    "1. La primera bola se devuelve a la urna antes de sacar la segunda.\n",
    "2. La primera bola no se devuelve. "
   ]
  },
  {
   "cell_type": "markdown",
   "metadata": {},
   "source": [
    "1. La primera bola se devuelve a la urna antes de sacar la segunda.\n",
    "\n",
    "E = {BB, BR, BV, BN, RB, RR, RV, RN, VB, VR, VV, VN, NB, NR, NV, NN}\n",
    "\n",
    "2. La primera bola no se devuelve.\n",
    "\n",
    "E = {BR, BV, BN, RB, RV, RN, VB, VR, VN, NB, NR, NV}\n"
   ]
  },
  {
   "cell_type": "markdown",
   "metadata": {},
   "source": [
    "### 4. Calcular las probabilidades indicadas según los siguientes experimentos"
   ]
  },
  {
   "cell_type": "markdown",
   "metadata": {},
   "source": [
    "Experimento 1 <br/>\n",
    "\n",
    "Una urna tiene ocho bolas rojas, cinco amarilla y siete verdes. Si se extrae una bola al azar calcular la probabilidad de que: <br/>\n",
    "\n",
    "1 Sea roja. <br/>\n",
    "2 Sea verde. <br/>\n",
    "3 Sea amarilla. <br/>\n",
    "4 No sea roja. <br/>\n",
    "5 No sea amarilla. <br/>"
   ]
  },
  {
   "cell_type": "code",
   "execution_count": 19,
   "metadata": {},
   "outputs": [
    {
     "name": "stdout",
     "output_type": "stream",
     "text": [
      "1 Sea roja: 0.4\n",
      "2 Sea verde: 0.35\n",
      "3 Sea amarilla: 0.25\n",
      "4 No sea roja: 0.6\n",
      "5 No sea amarilla: 0.75\n"
     ]
    }
   ],
   "source": [
    "total = 8 + 5 + 7\n",
    "# 1 Sea roja\n",
    "p_rojo = 8/total\n",
    "print( '1 Sea roja: {}'.format(p_rojo))\n",
    "\n",
    "# 2 Sea verde\n",
    "p_verde = 7/total\n",
    "print( '2 Sea verde: {}'.format(p_verde))\n",
    "\n",
    "# 3 Sea amarilla\n",
    "p_amarilla = 5/total\n",
    "print( '3 Sea amarilla: {}'.format(p_amarilla))\n",
    "\n",
    "# 4 No sea roja\n",
    "p_no_rojo = 1- p_rojo\n",
    "print( '4 No sea roja: {}'.format(p_no_rojo))\n",
    "\n",
    "# 5 No sea amarilla\n",
    "p_no_amarilla = 1-p_amarilla\n",
    "print( '5 No sea amarilla: {}'.format(p_no_amarilla))\n"
   ]
  },
  {
   "cell_type": "markdown",
   "metadata": {},
   "source": [
    "Experimento 2 <br/>\n",
    "\n",
    "Una urna contiene tres bolas rojas y siete blancas. Se extraen dos bolas al azar. Escribir el espacio muestral y hallar la probabilidad de los sucesos: <br/>\n",
    " \n",
    "1 Con reemplazamiento (sacar la primera bola y volver a meterla antes de sacar la segunda). <br/>\n",
    "\n",
    "2 Sin reemplazamiento (sacar la primera bola y no regresarla, sacar la segunda de las restantes). <br/>"
   ]
  },
  {
   "cell_type": "code",
   "execution_count": 26,
   "metadata": {},
   "outputs": [
    {
     "name": "stdout",
     "output_type": "stream",
     "text": [
      "1. p_RR : 0.09\n",
      "1. p_RB : 0.21\n",
      "1. p_BB : 0.49\n",
      "1. p_BR : 0.21\n"
     ]
    }
   ],
   "source": [
    "# Los espacios muestrales en cada experimento son los  mismos, solo cambian las probabilidades\n",
    "# E1 = {RR, RB, BB, BR}\n",
    "# 1 Con reemplazamiento\n",
    "# se consideran que son sucesos independientes\n",
    "\n",
    "blancas = 7\n",
    "rojas = 3\n",
    "total = blancas + rojas\n",
    "\n",
    "p_RR = (rojas/total)*(rojas/total)\n",
    "print( '1. p_RR : {}'.format(round(p_RR,2)))\n",
    "\n",
    "p_RB = (rojas/total)*(blancas/total)\n",
    "print( '1. p_RB : {}'.format(p_RB))\n",
    "\n",
    "p_BB = (blancas/total)*(blancas/total)\n",
    "print( '1. p_BB : {}'.format(round(p_BB,2)))\n",
    "\n",
    "p_BR = (blancas/total)*(rojas/total)\n",
    "print( '1. p_BR : {}'.format(p_BR))\n"
   ]
  },
  {
   "cell_type": "code",
   "execution_count": 24,
   "metadata": {},
   "outputs": [
    {
     "name": "stdout",
     "output_type": "stream",
     "text": [
      "2. p_RR : 0.07\n",
      "2. p_RB : 0.23\n",
      "2. p_BB : 0.47\n",
      "2. p_BR : 0.23\n"
     ]
    }
   ],
   "source": [
    "# 2 Sin reemplazamiento \n",
    "# los sucesos son dependientes, cambia la probabilidad en la segunda extraccion porque cambia el EM\n",
    "\n",
    "blancas = 7\n",
    "rojas = 3\n",
    "total = blancas + rojas\n",
    "\n",
    "# probabilidad de sacar rojo en la primera p_r_1 =rojas/total \n",
    "# y sacar roja en la segunda DADO QUE SAQUE ROJO EN LA PRIMERA(ya seque una, se reduce el EM) p_r_2 =(rojas-1)/(total-1)\n",
    "\n",
    "p_RR = (rojas/total)*((rojas-1)/(total-1))\n",
    "print( '2. p_RR : {}'.format(round(p_RR,2)))\n",
    "\n",
    "# en este caso la probabilidad de sacar blanca en la segunda DADO QUE SAQUE ROJO PRIMERO se calcula p_b_2 = blancas/(total-1) \n",
    "# (aun tengo todas las blancas pero una bola menos por la de la 1er extraccion)\n",
    "p_RB = (rojas/total)*(blancas/(total-1))\n",
    "print( '2. p_RB : {}'.format(round(p_RB,2)))\n",
    "\n",
    "p_BB = (blancas/total)*((blancas-1)/(total-1))\n",
    "print( '2. p_BB : {}'.format(round(p_BB,2)))\n",
    "\n",
    "p_BR = (blancas/total)*(rojas/(total-1))\n",
    "print( '2. p_BR : {}'.format(round(p_BR,2)))"
   ]
  },
  {
   "cell_type": "markdown",
   "metadata": {},
   "source": [
    "Experimento 3 <br/>\n",
    "\n",
    "Se extrae una bola de una urna que contiene cuatro bolas rojas, cinco blancas y seis negras. <br/>\n",
    "\n",
    "1 ¿Cuál es la probabilidad de que la bola sea roja o blanca?<br/>\n",
    "\n",
    "2 ¿Cuál es la probabilidad de que no sea blanca?<br/>"
   ]
  },
  {
   "cell_type": "code",
   "execution_count": 27,
   "metadata": {},
   "outputs": [
    {
     "name": "stdout",
     "output_type": "stream",
     "text": [
      "1. Probabilidad de que la bola sea roja o blanca: 0.6\n",
      "2. Probabilidad de que no sea blanca: 0.67\n"
     ]
    }
   ],
   "source": [
    "rojas = 4\n",
    "blancas = 5\n",
    "negras = 6\n",
    "total = rojas + blancas + negras\n",
    "\n",
    "# 1 ¿Cuál es la probabilidad de que la bola sea roja o blanca?\n",
    "# es la probabilidad de rojo union blanco. se suman porque son incompatibles (su interseccion es vacio, no suceden a la vez)\n",
    "p_roja_o_blanca = (rojas/total) + (blancas/total)\n",
    "print( '1. Probabilidad de que la bola sea roja o blanca: {}'.format(round(p_roja_o_blanca,2)))\n",
    "\n",
    "# 2 ¿Cuál es la probabilidad de que no sea blanca?\n",
    "p_no_blanca = 1- (blancas/total)\n",
    "print( '2. Probabilidad de que no sea blanca: {}'.format(round(p_no_blanca,2)))\n"
   ]
  },
  {
   "cell_type": "markdown",
   "metadata": {},
   "source": [
    "### 5. Ejercicio sobre alumnos en la escuela"
   ]
  },
  {
   "cell_type": "markdown",
   "metadata": {},
   "source": [
    "En una clase asisten 45 alumnos en donde hay 10 alumnas rubias, 20 morenas, 5 alumnos rubios y 10 morenos. Encontrar la probabilidad de que un alumno: <br/>\n",
    "\n",
    "1 Sea hombre.<br/>\n",
    "2 Sea mujer morena.<br/>\n",
    "3 Sea hombre o mujer.<br/>"
   ]
  },
  {
   "cell_type": "code",
   "execution_count": 28,
   "metadata": {},
   "outputs": [
    {
     "name": "stdout",
     "output_type": "stream",
     "text": [
      "1 Sea hombre: 0.33\n",
      "2 Sea mujer morena: 0.44\n",
      "3 Sea hombre o mujer: 1.0\n"
     ]
    }
   ],
   "source": [
    "total = 45\n",
    "mujer_rubia = 10\n",
    "mujer_morena = 20\n",
    "hombre_rubio = 5\n",
    "hombre_moreno = 10\n",
    "\n",
    "# 1 Sea hombre\n",
    "\n",
    "p_hombre = (hombre_rubio + hombre_moreno) / total\n",
    "print( '1 Sea hombre: {}'.format(round(p_hombre,2)))\n",
    "\n",
    "# 2 Sea mujer morena\n",
    "p_mujer_morena = mujer_morena / total\n",
    "print( '2 Sea mujer morena: {}'.format(round(p_mujer_morena,2)))\n",
    "\n",
    "# 3 Sea hombre o mujer (es 1 porque es la union de hombre y mujer y coincide con todo el EM)\n",
    "p_hombre_o_mujer = total / total\n",
    "print( '3 Sea hombre o mujer: {}'.format(round(p_hombre_o_mujer,2)))"
   ]
  },
  {
   "cell_type": "markdown",
   "metadata": {},
   "source": [
    "### 6. Ejercicios sobre dados"
   ]
  },
  {
   "cell_type": "markdown",
   "metadata": {},
   "source": [
    "Un dado está trucado, de forma que las probabilidades de obtener las distintas caras son proporcionales a los números de estas.<br/>\n",
    "Hallar:<br/>\n",
    "1 La probabilidad de obtener el 6 en un lanzamiento.<br/>\n",
    "2 La probabilidad de conseguir un número impar en un lanzamiento.<br/>"
   ]
  },
  {
   "cell_type": "code",
   "execution_count": null,
   "metadata": {},
   "outputs": [],
   "source": []
  },
  {
   "cell_type": "markdown",
   "metadata": {},
   "source": [
    "Se lanzan dos dados al aire y se anota la suma de los puntos obtenidos. Se pide:<br/>\n",
    "\n",
    "1 La probabilidad de que salga el 7.<br/>\n",
    "2 La probabilidad de que el número obtenido sea par.<br/>\n",
    "3 La probabilidad de que el número obtenido sea múltiplo de tres.<br/>"
   ]
  },
  {
   "cell_type": "code",
   "execution_count": null,
   "metadata": {},
   "outputs": [],
   "source": []
  },
  {
   "cell_type": "markdown",
   "metadata": {},
   "source": [
    "Se lanzan tres dados. Encontrar la probabilidad de que:\n",
    "1 Salga 6 en todos.<br/>\n",
    "2 Los puntos obtenidos sumen 7.<br/>"
   ]
  },
  {
   "cell_type": "code",
   "execution_count": null,
   "metadata": {},
   "outputs": [],
   "source": []
  },
  {
   "cell_type": "markdown",
   "metadata": {},
   "source": [
    "Busca la probabilidad de que al echar un dado al aire, salga:<br/>\n",
    "1 Un número par.<br/>\n",
    "2 Un múltiplo de tres.<br/>\n",
    "3 Mayor que cuatro.<br/>"
   ]
  },
  {
   "cell_type": "code",
   "execution_count": null,
   "metadata": {},
   "outputs": [],
   "source": []
  },
  {
   "cell_type": "markdown",
   "metadata": {},
   "source": [
    "### 7. Ejercicio sobre fichas de dominó"
   ]
  },
  {
   "cell_type": "markdown",
   "metadata": {},
   "source": [
    "Hallar la probabilidad de que al levantar unas fichas de dominó se obtenga un número de puntos mayor que 9 o que sea múltiplo de 4. <br/>"
   ]
  },
  {
   "cell_type": "code",
   "execution_count": null,
   "metadata": {},
   "outputs": [],
   "source": []
  },
  {
   "cell_type": "markdown",
   "metadata": {},
   "source": [
    "### 8. Ejercicio sobre monedas\n"
   ]
  },
  {
   "cell_type": "markdown",
   "metadata": {},
   "source": [
    "Hallar la probabilidad de que al lanzar al aire dos monedas, salgan: <br/>\n",
    "1 Dos caras. <br/>\n",
    "2 Dos cruces. <br/>\n",
    "3 Una cara y una cruz. <br/>"
   ]
  },
  {
   "cell_type": "code",
   "execution_count": null,
   "metadata": {},
   "outputs": [],
   "source": []
  },
  {
   "cell_type": "markdown",
   "metadata": {},
   "source": [
    "### 9. Ejercicio sobre papeletas en un sobre"
   ]
  },
  {
   "cell_type": "markdown",
   "metadata": {},
   "source": [
    "En un sobre hay 20 papeletas, 8 llevan dibujado un coche las restantes son blancas. Hallar la probabilidad de extraer al menos una papeleta con el dibujo de un coche:<br/>\n",
    "1 Si se saca una papeleta.<br/>\n",
    "2 Si se extraen dos papeletas.<br/>\n",
    "3 Si se extraen tres papeletas.<br/>"
   ]
  },
  {
   "cell_type": "code",
   "execution_count": null,
   "metadata": {},
   "outputs": [],
   "source": []
  },
  {
   "cell_type": "markdown",
   "metadata": {},
   "source": [
    "### 10. Ejercicio sobre estudiantes y la suspención de exámenes"
   ]
  },
  {
   "cell_type": "markdown",
   "metadata": {},
   "source": [
    "Los estudiantes A y B tienen respectivamente probabilidades 1/2 y 1/5 de suspender un examen. La probabilidad de que suspendan el examen simultáneamente es de 1/10. Determinar la probabilidad de que al menos uno de los dos estudiantes suspenda el examen."
   ]
  },
  {
   "cell_type": "code",
   "execution_count": null,
   "metadata": {},
   "outputs": [],
   "source": []
  },
  {
   "cell_type": "markdown",
   "metadata": {},
   "source": [
    "### 11. Ejercicio sobre cacería\n"
   ]
  },
  {
   "cell_type": "markdown",
   "metadata": {},
   "source": [
    "Dos hermanos salen de caza. El primero mata un promedio de 2 piezas cada 5 disparos y el segundo 1 pieza cada 2 disparos. Si los dos disparan al mismo tiempo a una misma pieza, ¿cuál es la probabilidad de que la maten?"
   ]
  },
  {
   "cell_type": "code",
   "execution_count": null,
   "metadata": {},
   "outputs": [],
   "source": []
  },
  {
   "cell_type": "markdown",
   "metadata": {},
   "source": [
    "### 12. Ejercicio sobre color de ojos en hombres y mujeres"
   ]
  },
  {
   "cell_type": "markdown",
   "metadata": {},
   "source": [
    "Una clase consta de 10 hombres y 20 mujeres; la mitad de los hombres y la mitad de las mujeres tienen los ojos castaños. Determinar la probabilidad de que una persona elegida al azar sea un hombre o tenga los ojos castaños."
   ]
  },
  {
   "cell_type": "code",
   "execution_count": null,
   "metadata": {},
   "outputs": [],
   "source": []
  },
  {
   "cell_type": "markdown",
   "metadata": {},
   "source": [
    "### 13. Ejercicio sobre promedios de vida"
   ]
  },
  {
   "cell_type": "markdown",
   "metadata": {},
   "source": [
    "La probabilidad de que un hombre viva 20 años es 1/4 y la de que su mujer viva 20 años es 1/3. Se pide calcular la probabilidad: <br/>\n",
    "1 De que ambos vivan 20 años.<br/>\n",
    "2 De que el hombre viva 20 años y su mujer no.<br/>\n",
    "3 De que ambos mueran antes de los 20 años.<br/>"
   ]
  }
 ],
 "metadata": {
  "interpreter": {
   "hash": "81217357e14a2a7d2954e9b4f241c04b072cf017ad08de600056874da1049731"
  },
  "kernelspec": {
   "display_name": "Python 3.10.4 64-bit",
   "language": "python",
   "name": "python3"
  },
  "language_info": {
   "codemirror_mode": {
    "name": "ipython",
    "version": 3
   },
   "file_extension": ".py",
   "mimetype": "text/x-python",
   "name": "python",
   "nbconvert_exporter": "python",
   "pygments_lexer": "ipython3",
   "version": "3.10.4"
  },
  "orig_nbformat": 4
 },
 "nbformat": 4,
 "nbformat_minor": 2
}
